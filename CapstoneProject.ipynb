{
  "nbformat": 4,
  "nbformat_minor": 0,
  "metadata": {
    "colab": {
      "provenance": [],
      "include_colab_link": true
    },
    "kernelspec": {
      "name": "python3",
      "display_name": "Python 3"
    },
    "language_info": {
      "name": "python"
    }
  },
  "cells": [
    {
      "cell_type": "markdown",
      "metadata": {
        "id": "view-in-github",
        "colab_type": "text"
      },
      "source": [
        "<a href=\"https://colab.research.google.com/github/rohizzzy/CapstoneProjectLTIM/blob/main/CapstoneProject.ipynb\" target=\"_parent\"><img src=\"https://colab.research.google.com/assets/colab-badge.svg\" alt=\"Open In Colab\"/></a>"
      ]
    },
    {
      "cell_type": "code",
      "execution_count": 275,
      "metadata": {
        "id": "L1oJct7Wlda4"
      },
      "outputs": [],
      "source": [
        "# pip install pandas numpy faker\n"
      ]
    },
    {
      "cell_type": "code",
      "source": [
        "# import pandas as pd\n",
        "# import numpy as np\n",
        "# import json\n",
        "# import random\n",
        "# from faker import Faker\n",
        "# from datetime import datetime, timedelta\n",
        "# import os\n",
        "\n",
        "# fake = Faker()\n",
        "# RECORDS = 200_000\n",
        "# OUTPUT_DIR = \"generated_data_v2\"\n",
        "# os.makedirs(OUTPUT_DIR, exist_ok=True)\n",
        "\n",
        "# # --- Helper Functions ---\n",
        "# def add_missing(df, column, percent=0.05):\n",
        "#     \"\"\"Insert nulls in a percentage of a column\"\"\"\n",
        "#     null_rows = df.sample(frac=percent)\n",
        "#     df.loc[null_rows.index, column] = None\n",
        "\n",
        "# def add_duplicates(df, percent=0.08):\n",
        "#     \"\"\"Add duplicated rows (5–10%)\"\"\"\n",
        "#     duplicates = df.sample(frac=percent)\n",
        "#     return pd.concat([df, duplicates], ignore_index=True)\n",
        "\n",
        "# # --- 1. loan_applications.csv ---\n",
        "# loan_applications = []\n",
        "\n",
        "# for _ in range(RECORDS):\n",
        "#     row = {\n",
        "#         \"customer_id\": fake.uuid4(),\n",
        "#         \"loan_amount\": round(random.uniform(5000, 1000000), 2),\n",
        "#         \"term\": random.choice([12, 24, 36, 48, 60]),\n",
        "#         \"purpose\": random.choice([\"Home\", \"Car\", \"Education\", \"Medical\", \"Business\", \"Other\"]),\n",
        "#         \"application_date\": fake.date_between(start_date='-5y', end_date='today'),\n",
        "#         \"employment_status\": random.choice([\"Employed\", \"Self-employed\", \"Unemployed\"]),\n",
        "#         \"location\": fake.city(),\n",
        "#         \"channel\": random.choice([\"Online\", \"Branch\", \"Agent\"]),\n",
        "#         \"interest_rate\": round(random.uniform(6.0, 15.0), 2),\n",
        "#         \"co_applicant\": random.choice([\"Yes\", \"No\"])\n",
        "#     }\n",
        "#     loan_applications.append(row)\n",
        "\n",
        "# df_loan = pd.DataFrame(loan_applications)\n",
        "\n",
        "# # Add nulls\n",
        "# for col in [\"location\", \"employment_status\", \"channel\"]:\n",
        "#     add_missing(df_loan, col, percent=random.uniform(0.03, 0.07))\n",
        "\n",
        "# # Add anomalies\n",
        "# df_loan.loc[100, \"interest_rate\"] = 55.0  # Unusually high\n",
        "# df_loan.loc[101, \"term\"] = -12  # Invalid term\n",
        "\n",
        "# # Add duplicates\n",
        "# df_loan = add_duplicates(df_loan, percent=random.uniform(0.05, 0.1))\n",
        "\n",
        "# df_loan.to_csv(f\"{OUTPUT_DIR}/loan_applications.csv\", index=False)\n",
        "\n",
        "# # --- 2. customer_credit_history.json ---\n",
        "# credit_history = []\n",
        "\n",
        "# for _ in range(RECORDS):\n",
        "#     row = {\n",
        "#         \"customer_id\": fake.uuid4(),\n",
        "#         \"credit_score\": random.randint(300, 850),\n",
        "#         \"defaults\": random.randint(0, 5),\n",
        "#         \"current_debts\": round(random.uniform(1000, 150000), 2),\n",
        "#         \"open_credit_lines\": random.randint(1, 10),\n",
        "#         \"credit_card_utilization\": round(random.uniform(0.0, 1.0), 2),\n",
        "#         \"last_default_date\": fake.date_between(start_date='-3y', end_date='today') if random.random() < 0.25 else None,\n",
        "#         \"employer_name\": fake.company(),\n",
        "#         \"monthly_income\": round(random.uniform(25000, 200000), 2),\n",
        "#         \"residence_status\": random.choice([\"Owned\", \"Rented\", \"Family\", \"PG\", None])\n",
        "#     }\n",
        "#     credit_history.append(row)\n",
        "\n",
        "# df_credit = pd.DataFrame(credit_history)\n",
        "\n",
        "# # Nulls\n",
        "# for col in [\"employer_name\", \"monthly_income\", \"residence_status\"]:\n",
        "#     add_missing(df_credit, col, percent=random.uniform(0.03, 0.07))\n",
        "\n",
        "# # Anomalies\n",
        "# df_credit.loc[120, \"credit_score\"] = 950  # Invalid score\n",
        "# df_credit.loc[121, \"current_debts\"] = -5000  # Negative debts\n",
        "\n",
        "# # Duplicates\n",
        "# df_credit = add_duplicates(df_credit, percent=random.uniform(0.05, 0.1))\n",
        "# df_credit.to_json(f\"{OUTPUT_DIR}/customer_credit_history.json\", orient=\"records\", indent=2)\n",
        "\n",
        "# # --- 3. monthly_payment_logs.csv ---\n",
        "# payment_logs = []\n",
        "\n",
        "# for _ in range(RECORDS):\n",
        "#     pay_date = fake.date_between(start_date='-3y', end_date='today')\n",
        "#     row = {\n",
        "#         \"customer_id\": fake.uuid4(),\n",
        "#         \"payment_date\": pay_date,\n",
        "#         \"payment_status\": random.choice([\"Paid\", \"Late\", \"Missed\"]),\n",
        "#         \"missed_payment_flag\": random.choice([0, 1]),\n",
        "#         \"payment_amount\": round(random.uniform(300, 50000), 2),\n",
        "#         \"due_date\": fake.date_between(start_date='-3y', end_date=pay_date),\n",
        "#         \"location\": fake.city(),\n",
        "#         \"channel\": random.choice([\"Online\", \"Mobile\", \"Branch\", \"Agent\"]),\n",
        "#         \"is_auto_debit\": random.choice([\"Yes\", \"No\"]),\n",
        "#         \"notes\": random.choice([\"\", \"Bank Error\", \"Retry\", \"System issue\", None])\n",
        "#     }\n",
        "#     payment_logs.append(row)\n",
        "\n",
        "# df_payments = pd.DataFrame(payment_logs)\n",
        "\n",
        "# # Nulls\n",
        "# add_missing(df_payments, \"notes\", percent=random.uniform(0.03, 0.07))\n",
        "\n",
        "# # Anomalies\n",
        "# df_payments.loc[135, \"payment_date\"] = \"2035-01-01\"  # Future date\n",
        "# df_payments.loc[136, \"payment_amount\"] = -200.00  # Negative payment\n",
        "\n",
        "# # Duplicates\n",
        "# df_payments = add_duplicates(df_payments, percent=random.uniform(0.05, 0.1))\n",
        "# df_payments.to_csv(f\"{OUTPUT_DIR}/monthly_payment_logs.csv\", index=False)\n",
        "\n",
        "# # --- 4. risk_flag_rules.json ---\n",
        "# risk_rules = [\n",
        "#     {\n",
        "#         \"rule_id\": \"R001\",\n",
        "#         \"description\": \"Credit score < 600 AND >2 defaults\",\n",
        "#         \"risk_flag\": \"HIGH\"\n",
        "#     },\n",
        "#     {\n",
        "#         \"rule_id\": \"R002\",\n",
        "#         \"description\": \"Loan amount > ₹3,00,000 AND income < ₹40,000\",\n",
        "#         \"risk_flag\": \"MEDIUM\"\n",
        "#     },\n",
        "#     {\n",
        "#         \"rule_id\": \"R003\",\n",
        "#         \"description\": \"Missed payment in last 3 months\",\n",
        "#         \"risk_flag\": \"HIGH\"\n",
        "#     },\n",
        "#     {\n",
        "#         \"rule_id\": \"R004\",\n",
        "#         \"description\": \"No defaults AND low credit utilization\",\n",
        "#         \"risk_flag\": \"LOW\"\n",
        "#     },\n",
        "#     {\n",
        "#         \"rule_id\": \"R005\",\n",
        "#         \"description\": \"High open credit lines + default history\",\n",
        "#         \"risk_flag\": \"HIGH\"\n",
        "#     }\n",
        "# ]\n",
        "\n",
        "# with open(f\"{OUTPUT_DIR}/risk_flag_rules.json\", \"w\") as f:\n",
        "#     json.dump(risk_rules, f, indent=2)\n",
        "\n",
        "# print(f\"✅ All datasets generated successfully in folder: {OUTPUT_DIR}\")\n"
      ],
      "metadata": {
        "id": "1slWsx-vlxqB"
      },
      "execution_count": 276,
      "outputs": []
    },
    {
      "cell_type": "code",
      "source": [
        "# pip install pyspark==3.5.2"
      ],
      "metadata": {
        "id": "z7qlrlpGmUHM"
      },
      "execution_count": 277,
      "outputs": []
    },
    {
      "cell_type": "markdown",
      "source": [
        "# **Loading DataFrame**"
      ],
      "metadata": {
        "id": "TFxh870Hsj7W"
      }
    },
    {
      "cell_type": "code",
      "source": [
        "from pyspark.sql import SparkSession,DataFrame\n",
        "from pyspark.sql.functions import *\n",
        "spark=SparkSession.builder.appName(\"Credit_analysis\").getOrCreate()"
      ],
      "metadata": {
        "id": "6qhyegjupaPD"
      },
      "execution_count": 278,
      "outputs": []
    },
    {
      "cell_type": "code",
      "source": [
        "loan_df=spark.read.csv(\"generated_data_v2/loan_applications.csv\",header=True,inferSchema=True)\n",
        "\n"
      ],
      "metadata": {
        "id": "gVyPOJVhp1TX"
      },
      "execution_count": 279,
      "outputs": []
    },
    {
      "cell_type": "code",
      "source": [
        "from pyspark.sql.types import (\n",
        "    StructType, StructField,\n",
        "    StringType, DoubleType, LongType, IntegerType,DateType\n",
        ")\n",
        "\n",
        "risk_flag_schema = StructType([\n",
        "    StructField(\"rule_id\", StringType(), True),\n",
        "    StructField(\"min_credit_score\", DoubleType(), True),\n",
        "    StructField(\"max_defaults_allowed\", DoubleType(), True),\n",
        "    StructField(\"max_current_debt\", DoubleType(), True),\n",
        "    StructField(\"region\", StringType(), True),\n",
        "    StructField(\"loan_purpose\", StringType(), True),\n",
        "    StructField(\"term_months_allowed\", DoubleType(), True),\n",
        "    StructField(\"flag\", StringType(), True),\n",
        "    StructField(\"rule_active\", StringType(), True),\n",
        "    StructField(\"created_by\", StringType(), True),\n",
        "    StructField(\"created_date\", LongType(), True),  # Assuming it's a Unix timestamp in milliseconds\n",
        "    StructField(\"review_frequency_days\", DoubleType(), True)\n",
        "])\n"
      ],
      "metadata": {
        "id": "MKvp4BMztpdt"
      },
      "execution_count": 280,
      "outputs": []
    },
    {
      "cell_type": "code",
      "source": [
        "from pyspark.sql.types import (\n",
        "    StructType, StructField,\n",
        "    StringType, IntegerType, DoubleType, LongType\n",
        ")\n",
        "\n",
        "customer_credit_history_schema = StructType([\n",
        "    StructField(\"customer_id\", StringType(), True),\n",
        "    StructField(\"credit_score\", DoubleType(), True),\n",
        "    StructField(\"defaults\", IntegerType(), True),\n",
        "    StructField(\"current_debt\", DoubleType(), True),\n",
        "    StructField(\"last_loan_status\", StringType(), True),\n",
        "    StructField(\"bank_name\", StringType(), True),\n",
        "    StructField(\"account_age_years\", IntegerType(), True),\n",
        "    StructField(\"last_updated\", LongType(), True),\n",
        "    StructField(\"region\", StringType(), True),\n",
        "    StructField(\"loan_type\", StringType(), True),\n",
        "    StructField(\"flagged\", StringType(), True)# assuming it's a Unix timestamp\n",
        "])\n"
      ],
      "metadata": {
        "id": "-SwBmfURw1A6"
      },
      "execution_count": 281,
      "outputs": []
    },
    {
      "cell_type": "code",
      "source": [
        "cust_df=spark.read.option(\"multiline\",True).json(\"generated_data_v2/customer_credit_history.json\")"
      ],
      "metadata": {
        "id": "dB3VQwe_qVrR"
      },
      "execution_count": 282,
      "outputs": []
    },
    {
      "cell_type": "code",
      "source": [
        "mp_df=spark.read.csv(\"/content/generated_data_v2/monthly_payment_logs.csv\",header=True,inferSchema=True)\n",
        "mp_df=mp_df.withColumn(\"payment_date\",col(\"payment_date\").cast(DateType()))\n",
        "risk_df=spark.read.option(\"multiline\",True).json(\"/content/generated_data_v2/risk_flag_rules.json\")"
      ],
      "metadata": {
        "id": "bxl18BiBraEc"
      },
      "execution_count": 283,
      "outputs": []
    },
    {
      "cell_type": "code",
      "source": [
        "risk_df.show()"
      ],
      "metadata": {
        "id": "em4Jel-KsUQ1",
        "outputId": "8df02f06-5249-4ed8-850b-71b46e1af6e0",
        "colab": {
          "base_uri": "https://localhost:8080/"
        }
      },
      "execution_count": 284,
      "outputs": [
        {
          "output_type": "stream",
          "name": "stdout",
          "text": [
            "+--------------------+---------+-------+\n",
            "|         description|risk_flag|rule_id|\n",
            "+--------------------+---------+-------+\n",
            "|Credit score < 60...|     HIGH|   R001|\n",
            "|Loan amount > ₹3,...|   MEDIUM|   R002|\n",
            "|Missed payment in...|     HIGH|   R003|\n",
            "|No defaults AND l...|      LOW|   R004|\n",
            "|High open credit ...|     HIGH|   R005|\n",
            "+--------------------+---------+-------+\n",
            "\n"
          ]
        }
      ]
    },
    {
      "cell_type": "code",
      "source": [
        "cust_df.cache()\n",
        "cust_df.show(truncate=False)"
      ],
      "metadata": {
        "id": "_zvNq4MEsxi_",
        "colab": {
          "base_uri": "https://localhost:8080/"
        },
        "outputId": "0d686e7a-70b8-4ee5-8bfe-0662c8843db9"
      },
      "execution_count": 285,
      "outputs": [
        {
          "output_type": "stream",
          "name": "stdout",
          "text": [
            "+-----------------------+------------+-------------+------------------------------------+--------+----------------------------+-----------------+--------------+-----------------+----------------+\n",
            "|credit_card_utilization|credit_score|current_debts|customer_id                         |defaults|employer_name               |last_default_date|monthly_income|open_credit_lines|residence_status|\n",
            "+-----------------------+------------+-------------+------------------------------------+--------+----------------------------+-----------------+--------------+-----------------+----------------+\n",
            "|0.47                   |802         |31638.42     |541a6a67-3b03-4642-9eb3-6f3e8db33ee5|4       |Shields-Thompson            |NULL             |178921.98     |6                |Owned           |\n",
            "|0.71                   |810         |108528.14    |3357bb54-f4e7-4665-9de4-d41fb153826e|5       |Schroeder, Price and Stanley|NULL             |164109.82     |1                |NULL            |\n",
            "|0.87                   |793         |131725.83    |11e49f03-4326-4e4f-b9fd-a9a9e59ca837|2       |Day, Rios and Gallegos      |NULL             |84662.13      |7                |Owned           |\n",
            "|0.65                   |321         |128904.04    |1bebd006-2daa-468b-9fa0-1c0cbe30599f|1       |Christensen PLC             |1678492800000    |NULL          |9                |Rented          |\n",
            "|0.1                    |734         |133667.76    |4da52423-0fde-4c1d-9093-57455ba27a1e|2       |NULL                        |1688774400000    |183185.92     |1                |Owned           |\n",
            "|0.68                   |344         |78298.4      |d884cecf-f640-4bf9-8060-7046ca7d3bdf|0       |Hall Ltd                    |NULL             |62209.98      |6                |Owned           |\n",
            "|0.99                   |608         |111763.02    |ca385eb2-3912-4de1-9915-742b620b5c6b|3       |Morgan, Martinez and Kelly  |1703203200000    |179142.01     |10               |Rented          |\n",
            "|0.07                   |623         |74718.86     |179e9e33-ff49-42ab-bbfe-284a23d61fec|0       |Miller and Sons             |NULL             |166926.84     |10               |Family          |\n",
            "|0.48                   |811         |122141.87    |78a71a8b-bd29-45fc-ba39-d46ba4c15b8d|0       |Jensen-Peck                 |NULL             |NULL          |5                |Family          |\n",
            "|0.46                   |541         |64467.8      |6af9f4f1-99e0-45dc-b562-01a206bd0327|1       |Williams Inc                |NULL             |197799.95     |6                |Family          |\n",
            "|0.1                    |534         |145709.84    |0f7df3a0-cf7d-4e4a-8969-83c336dd978e|2       |NULL                        |1708214400000    |51225.31      |3                |Owned           |\n",
            "|0.95                   |706         |103488.72    |aa895cdd-5b3f-4277-8e10-38cb331d613d|2       |Barr-Moore                  |NULL             |74732.66      |8                |Rented          |\n",
            "|0.79                   |839         |29589.79     |bb8d3e7f-a947-4a11-aa83-548e816d9560|4       |Haas, Kline and Jackson     |NULL             |65475.16      |1                |Family          |\n",
            "|0.05                   |413         |32503.51     |f58a8e4b-d115-44e5-96f1-df314cc0683b|1       |Newman-Wheeler              |1747180800000    |137766.03     |1                |Rented          |\n",
            "|0.03                   |670         |58714.51     |15ed3214-c4b3-49cc-8a0b-86acce6a2839|5       |NULL                        |1717459200000    |128499.0      |4                |Rented          |\n",
            "|0.62                   |333         |11326.19     |f23dab60-75de-4401-8998-1ce5ee634485|3       |White, Love and Atkins      |NULL             |104815.28     |9                |Owned           |\n",
            "|0.4                    |301         |98987.28     |eeca3f63-e16a-4daa-99c4-fe58a33530dc|1       |Ford-Weaver                 |1737158400000    |160548.92     |9                |Family          |\n",
            "|0.35                   |552         |80890.95     |482a4e6c-cc2d-479a-a410-27ae269e728d|2       |Jordan PLC                  |NULL             |NULL          |7                |Family          |\n",
            "|0.32                   |684         |137169.23    |0cec3948-ddb4-4922-b2e0-43016afb27fb|5       |Lopez, Wood and Howell      |NULL             |85725.23      |7                |Rented          |\n",
            "|0.41                   |382         |123168.31    |ea447d68-303d-4b87-a5db-08db12819891|2       |Vargas-Jones                |NULL             |114855.98     |4                |Rented          |\n",
            "+-----------------------+------------+-------------+------------------------------------+--------+----------------------------+-----------------+--------------+-----------------+----------------+\n",
            "only showing top 20 rows\n",
            "\n"
          ]
        }
      ]
    },
    {
      "cell_type": "code",
      "source": [
        "loan_df.show()"
      ],
      "metadata": {
        "id": "0HfSeHAzs2TU",
        "colab": {
          "base_uri": "https://localhost:8080/"
        },
        "outputId": "a072cd59-315d-4f64-fe95-7fedc40839e6"
      },
      "execution_count": 286,
      "outputs": [
        {
          "output_type": "stream",
          "name": "stdout",
          "text": [
            "+--------------------+-----------+----+---------+----------------+-----------------+--------------------+-------+-------------+------------+\n",
            "|         customer_id|loan_amount|term|  purpose|application_date|employment_status|            location|channel|interest_rate|co_applicant|\n",
            "+--------------------+-----------+----+---------+----------------+-----------------+--------------------+-------+-------------+------------+\n",
            "|6c04eaf7-e398-4d1...|  401448.49|  12|  Medical|      2023-09-01|    Self-employed|         Port Joseph|  Agent|        11.85|         Yes|\n",
            "|04d80cc6-a615-4cb...|  511240.98|  60|      Car|      2022-04-25|       Unemployed|         Taylorhaven| Branch|        11.39|         Yes|\n",
            "|a43c046b-adb0-421...|  766927.25|  60|      Car|      2022-10-04|       Unemployed|       Stephanieland| Online|        11.91|         Yes|\n",
            "|1f3b99f0-7baf-431...|  247686.69|  12|      Car|      2024-10-03|         Employed|          Nguyenside|  Agent|        12.93|          No|\n",
            "|490780e6-647d-48b...|  399326.23|  60|Education|      2023-08-25|    Self-employed|          Frankmouth| Branch|        13.47|          No|\n",
            "|33660510-66ad-4d3...|  636077.64|  24|Education|      2023-04-07|    Self-employed|          Amandaport|  Agent|        14.49|          No|\n",
            "|7d23ba12-4b71-459...|  654106.97|  60|  Medical|      2024-01-31|       Unemployed|                NULL| Online|        10.86|         Yes|\n",
            "|104a5498-28f4-4fc...|   578782.7|  36|    Other|      2023-06-24|    Self-employed|South Michaelchester| Branch|        14.83|          No|\n",
            "|c0e68fad-3dbc-4d1...|  486601.79|  12|  Medical|      2025-03-23|         Employed|        Jonathanstad|   NULL|        14.79|         Yes|\n",
            "|35971c24-15ca-461...|  896930.24|  12|Education|      2024-11-28|    Self-employed|      Lake Ryanhaven| Online|         9.67|          No|\n",
            "|ec695d27-0b61-475...|  232717.83|  12|Education|      2021-11-18|       Unemployed|        West Marilyn|  Agent|        14.94|         Yes|\n",
            "|f5aba62e-ff3e-4d9...|  609603.58|  24|    Other|      2025-03-08|       Unemployed|    Lake Victorville| Branch|        14.77|         Yes|\n",
            "|d7f3acb2-9964-4a8...|  801256.25|  24|    Other|      2023-08-01|         Employed|         South Renee|   NULL|        12.29|         Yes|\n",
            "|8c718491-f1fd-4e0...|  254774.39|  60|     Home|      2020-09-23|    Self-employed|                NULL|  Agent|         7.77|          No|\n",
            "|557071cc-fe47-4c5...|   77810.27|  12| Business|      2021-11-15|       Unemployed|          Bryanmouth| Online|        12.47|          No|\n",
            "|e00cc924-da49-4ea...|  407067.66|  48| Business|      2024-09-26|    Self-employed|         North Ricky| Branch|        14.56|         Yes|\n",
            "|235f10c8-d16b-4cb...|  131195.85|  12|Education|      2024-09-18|    Self-employed|         Martinburgh| Online|        13.85|         Yes|\n",
            "|1ddb6e58-66c6-4ca...|  975087.91|  24| Business|      2020-09-08|    Self-employed|   Port Kathleenfurt|  Agent|         8.01|         Yes|\n",
            "|e4c5ede8-ff7b-47f...|  729888.65|  48|  Medical|      2024-04-22|         Employed|    North Jameshaven|  Agent|        14.94|         Yes|\n",
            "|56e4ec46-43ad-426...|  557469.16|  24|  Medical|      2022-04-10|       Unemployed|          East Sarah|  Agent|        14.69|         Yes|\n",
            "+--------------------+-----------+----+---------+----------------+-----------------+--------------------+-------+-------------+------------+\n",
            "only showing top 20 rows\n",
            "\n"
          ]
        }
      ]
    },
    {
      "cell_type": "code",
      "metadata": {
        "id": "5549074c"
      },
      "source": [
        "mp_df=spark.read.csv(\"/content/generated_data_v2/monthly_payment_logs.csv\",header=True,inferSchema=True)\n",
        "risk_df=spark.read.option(\"multiline\",True).json(\"/content/generated_data_v2/risk_flag_rules.json\")"
      ],
      "execution_count": 287,
      "outputs": []
    },
    {
      "cell_type": "markdown",
      "source": [],
      "metadata": {
        "id": "XVZSM2Ny0Cg3"
      }
    },
    {
      "cell_type": "code",
      "metadata": {
        "id": "a53d553b",
        "outputId": "70bf46a1-2e1e-43a3-98c4-e7fd15e9d447",
        "colab": {
          "base_uri": "https://localhost:8080/"
        }
      },
      "source": [
        "risk_df.show()"
      ],
      "execution_count": 288,
      "outputs": [
        {
          "output_type": "stream",
          "name": "stdout",
          "text": [
            "+--------------------+---------+-------+\n",
            "|         description|risk_flag|rule_id|\n",
            "+--------------------+---------+-------+\n",
            "|Credit score < 60...|     HIGH|   R001|\n",
            "|Loan amount > ₹3,...|   MEDIUM|   R002|\n",
            "|Missed payment in...|     HIGH|   R003|\n",
            "|No defaults AND l...|      LOW|   R004|\n",
            "|High open credit ...|     HIGH|   R005|\n",
            "+--------------------+---------+-------+\n",
            "\n"
          ]
        }
      ]
    },
    {
      "cell_type": "markdown",
      "source": [
        "# **Cleaning loan DataFrame**"
      ],
      "metadata": {
        "id": "I-phaGak0D_z"
      }
    },
    {
      "cell_type": "code",
      "source": [
        "loan_df.count()"
      ],
      "metadata": {
        "id": "K0htEPnx0OiQ",
        "outputId": "a7c3eadb-25ac-48a3-d66e-aed9df6f56b4",
        "colab": {
          "base_uri": "https://localhost:8080/"
        }
      },
      "execution_count": 289,
      "outputs": [
        {
          "output_type": "execute_result",
          "data": {
            "text/plain": [
              "211154"
            ]
          },
          "metadata": {},
          "execution_count": 289
        }
      ]
    },
    {
      "cell_type": "code",
      "source": [
        "loan_df = loan_df.dropDuplicates()"
      ],
      "metadata": {
        "id": "1_DUrxZn0ZOJ"
      },
      "execution_count": 290,
      "outputs": []
    },
    {
      "cell_type": "code",
      "source": [
        "loan_df = loan_df.dropna(subset=[\"customer_id\", \"loan_amount\", \"term\", \"interest_rate\"])"
      ],
      "metadata": {
        "id": "2ZFMilaW0aMN"
      },
      "execution_count": 291,
      "outputs": []
    },
    {
      "cell_type": "code",
      "source": [
        "loan_df = loan_df.filter(col(\"term\") > 0)"
      ],
      "metadata": {
        "id": "PSghe-g20p7O"
      },
      "execution_count": 292,
      "outputs": []
    },
    {
      "cell_type": "code",
      "source": [
        "loan_df = loan_df.filter((col(\"interest_rate\") >= 3) & (col(\"interest_rate\") <= 25))"
      ],
      "metadata": {
        "id": "kWehH1CY0_qH"
      },
      "execution_count": 293,
      "outputs": []
    },
    {
      "cell_type": "code",
      "source": [
        "q1, q3 = loan_df.approxQuantile(\"loan_amount\", [0.25, 0.75], 0)\n",
        "iqr = q3 - q1\n",
        "upper = q3 + 1.5 * iqr\n",
        "loan_df = loan_df.filter(col(\"loan_amount\") <= upper)"
      ],
      "metadata": {
        "id": "cDoVup9r1Uhp"
      },
      "execution_count": 294,
      "outputs": []
    },
    {
      "cell_type": "code",
      "source": [
        "loan_df.write.mode(\"overwrite\").csv(\"cleaned/loan_applications_cleaned.csv\", header=True)"
      ],
      "metadata": {
        "id": "_NaS0xPi2NO6"
      },
      "execution_count": 295,
      "outputs": []
    },
    {
      "cell_type": "code",
      "source": [
        "loan_df.count()"
      ],
      "metadata": {
        "id": "rNskVX2w2gna",
        "colab": {
          "base_uri": "https://localhost:8080/"
        },
        "outputId": "f16cbcf1-6520-41a1-c8f4-7ca165cbf3f9"
      },
      "execution_count": 296,
      "outputs": [
        {
          "output_type": "execute_result",
          "data": {
            "text/plain": [
              "199998"
            ]
          },
          "metadata": {},
          "execution_count": 296
        }
      ]
    },
    {
      "cell_type": "markdown",
      "source": [
        "## **Cleaning monthly_payment DataFrame**"
      ],
      "metadata": {
        "id": "FF2yOve63Ex9"
      }
    },
    {
      "cell_type": "code",
      "source": [
        "mp_df.count()"
      ],
      "metadata": {
        "colab": {
          "base_uri": "https://localhost:8080/"
        },
        "id": "SGH5HFJx7Q7C",
        "outputId": "b55c8771-96f1-47d5-de2b-b757f1e75476"
      },
      "execution_count": 297,
      "outputs": [
        {
          "output_type": "execute_result",
          "data": {
            "text/plain": [
              "216274"
            ]
          },
          "metadata": {},
          "execution_count": 297
        }
      ]
    },
    {
      "cell_type": "code",
      "source": [
        "mp_df= mp_df.dropDuplicates()"
      ],
      "metadata": {
        "id": "AeMzsBql3Js0"
      },
      "execution_count": 298,
      "outputs": []
    },
    {
      "cell_type": "code",
      "source": [
        "q1, q3 = mp_df.approxQuantile(\"payment_amount\", [0.25, 0.75], 0)\n",
        "iqr = q3 - q1\n",
        "upper = q3 + 1.5 * iqr\n",
        "mp_df= mp_df.filter((col(\"payment_amount\") >= 0) & (col(\"payment_amount\") <= upper))\n",
        "\n"
      ],
      "metadata": {
        "id": "BGF8STKW3gm0"
      },
      "execution_count": 299,
      "outputs": []
    },
    {
      "cell_type": "code",
      "source": [
        "today = current_date()\n",
        "mp_df= mp_df.filter(col(\"payment_date\") <= today)"
      ],
      "metadata": {
        "id": "srgGPIin32UT"
      },
      "execution_count": 300,
      "outputs": []
    },
    {
      "cell_type": "code",
      "source": [
        "mp_df.count()"
      ],
      "metadata": {
        "id": "f4DximVm394m",
        "colab": {
          "base_uri": "https://localhost:8080/"
        },
        "outputId": "1fe7922a-5a78-4654-f640-fbfd9dd42235"
      },
      "execution_count": 301,
      "outputs": [
        {
          "output_type": "execute_result",
          "data": {
            "text/plain": [
              "199998"
            ]
          },
          "metadata": {},
          "execution_count": 301
        }
      ]
    },
    {
      "cell_type": "markdown",
      "source": [
        "## **Cleaning Customer DataFrame**"
      ],
      "metadata": {
        "id": "o_SBwFHY9Dqt"
      }
    },
    {
      "cell_type": "code",
      "source": [
        "cust_df.show()\n",
        "cust_df.count()"
      ],
      "metadata": {
        "colab": {
          "base_uri": "https://localhost:8080/"
        },
        "id": "KseNj3ya7X61",
        "outputId": "43666819-a56d-4642-f8f0-9dfafa2b24e8"
      },
      "execution_count": 302,
      "outputs": [
        {
          "output_type": "stream",
          "name": "stdout",
          "text": [
            "+-----------------------+------------+-------------+--------------------+--------+--------------------+-----------------+--------------+-----------------+----------------+\n",
            "|credit_card_utilization|credit_score|current_debts|         customer_id|defaults|       employer_name|last_default_date|monthly_income|open_credit_lines|residence_status|\n",
            "+-----------------------+------------+-------------+--------------------+--------+--------------------+-----------------+--------------+-----------------+----------------+\n",
            "|                   0.47|         802|     31638.42|541a6a67-3b03-464...|       4|    Shields-Thompson|             NULL|     178921.98|                6|           Owned|\n",
            "|                   0.71|         810|    108528.14|3357bb54-f4e7-466...|       5|Schroeder, Price ...|             NULL|     164109.82|                1|            NULL|\n",
            "|                   0.87|         793|    131725.83|11e49f03-4326-4e4...|       2|Day, Rios and Gal...|             NULL|      84662.13|                7|           Owned|\n",
            "|                   0.65|         321|    128904.04|1bebd006-2daa-468...|       1|     Christensen PLC|    1678492800000|          NULL|                9|          Rented|\n",
            "|                    0.1|         734|    133667.76|4da52423-0fde-4c1...|       2|                NULL|    1688774400000|     183185.92|                1|           Owned|\n",
            "|                   0.68|         344|      78298.4|d884cecf-f640-4bf...|       0|            Hall Ltd|             NULL|      62209.98|                6|           Owned|\n",
            "|                   0.99|         608|    111763.02|ca385eb2-3912-4de...|       3|Morgan, Martinez ...|    1703203200000|     179142.01|               10|          Rented|\n",
            "|                   0.07|         623|     74718.86|179e9e33-ff49-42a...|       0|     Miller and Sons|             NULL|     166926.84|               10|          Family|\n",
            "|                   0.48|         811|    122141.87|78a71a8b-bd29-45f...|       0|         Jensen-Peck|             NULL|          NULL|                5|          Family|\n",
            "|                   0.46|         541|      64467.8|6af9f4f1-99e0-45d...|       1|        Williams Inc|             NULL|     197799.95|                6|          Family|\n",
            "|                    0.1|         534|    145709.84|0f7df3a0-cf7d-4e4...|       2|                NULL|    1708214400000|      51225.31|                3|           Owned|\n",
            "|                   0.95|         706|    103488.72|aa895cdd-5b3f-427...|       2|          Barr-Moore|             NULL|      74732.66|                8|          Rented|\n",
            "|                   0.79|         839|     29589.79|bb8d3e7f-a947-4a1...|       4|Haas, Kline and J...|             NULL|      65475.16|                1|          Family|\n",
            "|                   0.05|         413|     32503.51|f58a8e4b-d115-44e...|       1|      Newman-Wheeler|    1747180800000|     137766.03|                1|          Rented|\n",
            "|                   0.03|         670|     58714.51|15ed3214-c4b3-49c...|       5|                NULL|    1717459200000|      128499.0|                4|          Rented|\n",
            "|                   0.62|         333|     11326.19|f23dab60-75de-440...|       3|White, Love and A...|             NULL|     104815.28|                9|           Owned|\n",
            "|                    0.4|         301|     98987.28|eeca3f63-e16a-4da...|       1|         Ford-Weaver|    1737158400000|     160548.92|                9|          Family|\n",
            "|                   0.35|         552|     80890.95|482a4e6c-cc2d-479...|       2|          Jordan PLC|             NULL|          NULL|                7|          Family|\n",
            "|                   0.32|         684|    137169.23|0cec3948-ddb4-492...|       5|Lopez, Wood and H...|             NULL|      85725.23|                7|          Rented|\n",
            "|                   0.41|         382|    123168.31|ea447d68-303d-4b8...|       2|        Vargas-Jones|             NULL|     114855.98|                4|          Rented|\n",
            "+-----------------------+------------+-------------+--------------------+--------+--------------------+-----------------+--------------+-----------------+----------------+\n",
            "only showing top 20 rows\n",
            "\n"
          ]
        },
        {
          "output_type": "execute_result",
          "data": {
            "text/plain": [
              "215261"
            ]
          },
          "metadata": {},
          "execution_count": 302
        }
      ]
    },
    {
      "cell_type": "code",
      "source": [
        "cust_df=cust_df.dropDuplicates()\n",
        "cust_df=cust_df.dropna(subset=[\"customer_id\",\"credit_score\",\"residence_status\",\"employer_name\",\"monthly_income\"])"
      ],
      "metadata": {
        "id": "gq7G3T_Z9LZp"
      },
      "execution_count": 303,
      "outputs": []
    },
    {
      "cell_type": "code",
      "source": [
        "cust_df=cust_df.fillna(0)"
      ],
      "metadata": {
        "id": "D0RZS0Wo-Vc5"
      },
      "execution_count": 304,
      "outputs": []
    },
    {
      "cell_type": "code",
      "source": [
        "cust_df=cust_df.filter((col(\"credit_score\") >= 450))"
      ],
      "metadata": {
        "id": "0oWjbetJ-jyL"
      },
      "execution_count": 305,
      "outputs": []
    },
    {
      "cell_type": "code",
      "source": [
        "cust_df=cust_df.filter(col(\"monthly_income\")>50000)"
      ],
      "metadata": {
        "id": "dyoCFYOq-u7U"
      },
      "execution_count": 306,
      "outputs": []
    },
    {
      "cell_type": "code",
      "source": [
        "cust_df=cust_df.filter(col(\"defaults\")<=3)"
      ],
      "metadata": {
        "id": "Z7iRdmHX-5RF"
      },
      "execution_count": 307,
      "outputs": []
    },
    {
      "cell_type": "code",
      "source": [
        "cust_df.count()"
      ],
      "metadata": {
        "colab": {
          "base_uri": "https://localhost:8080/"
        },
        "id": "4VcroqNp_Ctz",
        "outputId": "303ee0ff-d2e1-461b-b245-86280f830caf"
      },
      "execution_count": 308,
      "outputs": [
        {
          "output_type": "execute_result",
          "data": {
            "text/plain": [
              "55379"
            ]
          },
          "metadata": {},
          "execution_count": 308
        }
      ]
    },
    {
      "cell_type": "code",
      "source": [],
      "metadata": {
        "id": "FxWTegEf_i5q"
      },
      "execution_count": null,
      "outputs": []
    }
  ]
}