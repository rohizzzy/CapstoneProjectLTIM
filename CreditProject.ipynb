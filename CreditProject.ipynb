{
  "nbformat": 4,
  "nbformat_minor": 0,
  "metadata": {
    "colab": {
      "provenance": [],
      "toc_visible": true,
      "include_colab_link": true
    },
    "kernelspec": {
      "name": "python3",
      "display_name": "Python 3"
    },
    "language_info": {
      "name": "python"
    }
  },
  "cells": [
    {
      "cell_type": "markdown",
      "metadata": {
        "id": "view-in-github",
        "colab_type": "text"
      },
      "source": [
        "<a href=\"https://colab.research.google.com/github/rohizzzy/CapstoneProjectLTIM/blob/main/CreditProject.ipynb\" target=\"_parent\"><img src=\"https://colab.research.google.com/assets/colab-badge.svg\" alt=\"Open In Colab\"/></a>"
      ]
    },
    {
      "cell_type": "code",
      "execution_count": null,
      "metadata": {
        "colab": {
          "base_uri": "https://localhost:8080/"
        },
        "id": "waE406QUDrqs",
        "outputId": "92d3f8d5-0764-410d-9737-e05f97c4a6ca"
      },
      "outputs": [
        {
          "output_type": "stream",
          "name": "stdout",
          "text": [
            "Requirement already satisfied: pandas in /usr/local/lib/python3.11/dist-packages (2.2.2)\n",
            "Requirement already satisfied: numpy in /usr/local/lib/python3.11/dist-packages (2.0.2)\n",
            "Collecting faker\n",
            "  Downloading faker-37.4.2-py3-none-any.whl.metadata (15 kB)\n",
            "Requirement already satisfied: python-dateutil>=2.8.2 in /usr/local/lib/python3.11/dist-packages (from pandas) (2.9.0.post0)\n",
            "Requirement already satisfied: pytz>=2020.1 in /usr/local/lib/python3.11/dist-packages (from pandas) (2025.2)\n",
            "Requirement already satisfied: tzdata>=2022.7 in /usr/local/lib/python3.11/dist-packages (from pandas) (2025.2)\n",
            "Requirement already satisfied: six>=1.5 in /usr/local/lib/python3.11/dist-packages (from python-dateutil>=2.8.2->pandas) (1.17.0)\n",
            "Downloading faker-37.4.2-py3-none-any.whl (1.9 MB)\n",
            "\u001b[2K   \u001b[90m━━━━━━━━━━━━━━━━━━━━━━━━━━━━━━━━━━━━━━━━\u001b[0m \u001b[32m1.9/1.9 MB\u001b[0m \u001b[31m23.2 MB/s\u001b[0m eta \u001b[36m0:00:00\u001b[0m\n",
            "\u001b[?25hInstalling collected packages: faker\n",
            "Successfully installed faker-37.4.2\n"
          ]
        }
      ],
      "source": [
        "pip install pandas numpy faker"
      ]
    },
    {
      "cell_type": "code",
      "source": [
        "import pandas as pd\n",
        "import numpy as np\n",
        "import json\n",
        "import random\n",
        "from faker import Faker\n",
        "import os\n",
        "fake = Faker()\n",
        "\n",
        "# Ensure reproducibility\n",
        "random.seed(42)\n",
        "np.random.seed(42)\n",
        "\n",
        "# Total entries\n",
        "N = 10000\n",
        "DUPLICATE_PERCENT = 0.07  # 7% duplicates\n",
        "NULL_PERCENT = 0.05       # 5% nulls\n",
        "\n",
        "# Ensure the dataset directory exists\n",
        "os.makedirs(\"dataset\", exist_ok=True)\n",
        "\n",
        "\n",
        "### 1. loan_applications.csv ###\n",
        "def generate_loan_applications():\n",
        "    data = []\n",
        "    purposes = ['Home', 'Car', 'Education', 'Medical', 'Vacation', 'Wedding']\n",
        "    for _ in range(N):\n",
        "        entry = {\n",
        "            \"customer_id\": fake.uuid4(),\n",
        "            \"loan_amount\": round(np.random.uniform(1000, 50000), 2),\n",
        "            \"term_months\": random.choice([12, 24, 36, 48, 60]),\n",
        "            \"purpose\": random.choice(purposes),\n",
        "            \"application_date\": fake.date_between(start_date='-3y', end_date='today'),\n",
        "            \"city\": fake.city(),\n",
        "            \"state\": fake.state(),\n",
        "            \"country\": fake.country(),\n",
        "            \"channel\": random.choice([\"Online\", \"Branch\", \"Agent\"]),\n",
        "            \"agent_id\": fake.uuid4(),\n",
        "            \"campaign\": random.choice([\"Summer2023\", \"FestiveBonanza\", \"None\"])\n",
        "        }\n",
        "        data.append(entry)\n",
        "\n",
        "    df = pd.DataFrame(data)\n",
        "\n",
        "    # Add nulls\n",
        "    for col in df.columns:\n",
        "        df.loc[df.sample(frac=NULL_PERCENT).index, col] = None\n",
        "\n",
        "    # Add duplicates\n",
        "    duplicates = df.sample(frac=DUPLICATE_PERCENT)\n",
        "    df = pd.concat([df, duplicates], ignore_index=True).reset_index(drop=True)\n",
        "\n",
        "    df.to_csv(\"dataset/loan_applications.csv\", index=False)\n",
        "\n",
        "\n",
        "### 2. customer_credit_history.json ###\n",
        "def generate_customer_credit_history():\n",
        "    data = []\n",
        "    for _ in range(N):\n",
        "        credit_score = np.random.randint(300, 900)\n",
        "        entry = {\n",
        "            \"customer_id\": fake.uuid4(),\n",
        "            \"credit_score\": credit_score if credit_score <= 850 else 999,  # Anomaly\n",
        "            \"defaults\": np.random.randint(0, 5),\n",
        "            \"current_debt\": round(np.random.uniform(0, 100000), 2),\n",
        "            \"last_loan_status\": random.choice([\"Paid\", \"Defaulted\", \"Ongoing\"]),\n",
        "            \"bank_name\": fake.company(),\n",
        "            \"account_age_years\": np.random.randint(1, 20),\n",
        "            \"last_updated\": fake.date_this_year(),\n",
        "            \"region\": fake.state(),\n",
        "            \"loan_type\": random.choice([\"Personal\", \"Mortgage\", \"Auto\", \"Education\"]),\n",
        "            \"flagged\": random.choice([\"Yes\", \"No\"])\n",
        "        }\n",
        "        data.append(entry)\n",
        "\n",
        "    df = pd.DataFrame(data)\n",
        "\n",
        "    # Add nulls\n",
        "    for col in df.columns:\n",
        "        df.loc[df.sample(frac=NULL_PERCENT).index, col] = None\n",
        "\n",
        "    # Add duplicates\n",
        "    duplicates = df.sample(frac=DUPLICATE_PERCENT)\n",
        "    df = pd.concat([df, duplicates], ignore_index=True)\n",
        "\n",
        "    df.to_json(\"dataset/customer_credit_history.json\", orient=\"records\", lines=True)\n",
        "\n",
        "\n",
        "### 3. monthly_payment_logs.csv ###\n",
        "def generate_monthly_payment_logs():\n",
        "    data = []\n",
        "    for _ in range(N):\n",
        "        status = random.choice([\"Paid\", \"Missed\", \"Late\", \"Pending\"])\n",
        "        entry = {\n",
        "            \"customer_id\": fake.uuid4(),\n",
        "            \"payment_date\": fake.date_between(start_date='-2y', end_date='today'),\n",
        "            \"payment_status\": status,\n",
        "            \"missed_payment_flag\": status == \"Missed\",\n",
        "            \"payment_amount\": round(np.random.uniform(100, 2000), 2),\n",
        "            \"payment_channel\": random.choice([\"UPI\", \"NEFT\", \"Cash\", \"Credit Card\"]),\n",
        "            \"branch_code\": fake.swift8(),\n",
        "            \"agent_code\": fake.bothify(text='AGT-####'),\n",
        "            \"overdue_days\": np.random.randint(0, 90),\n",
        "            \"reschedule_requested\": random.choice([\"Yes\", \"No\"]),\n",
        "            \"emi_number\": np.random.randint(1, 60)\n",
        "        }\n",
        "        data.append(entry)\n",
        "\n",
        "    df = pd.DataFrame(data)\n",
        "\n",
        "    # Add nulls\n",
        "    for col in df.columns:\n",
        "        df.loc[df.sample(frac=NULL_PERCENT).index, col] = None\n",
        "\n",
        "    # Add duplicates\n",
        "    duplicates = df.sample(frac=DUPLICATE_PERCENT)\n",
        "    df = pd.concat([df, duplicates], ignore_index=True)\n",
        "\n",
        "    df.to_csv(\"dataset/monthly_payment_logs.csv\", index=False)\n",
        "\n",
        "\n",
        "### 4. risk_flag_rules.json ###\n",
        "def generate_risk_flag_rules():\n",
        "    data = []\n",
        "    for i in range(N):\n",
        "        rule_id = f\"RULE{i:05d}\"\n",
        "        entry = {\n",
        "            \"rule_id\": rule_id,\n",
        "            \"min_credit_score\": np.random.randint(300, 850),\n",
        "            \"max_defaults_allowed\": np.random.randint(0, 5),\n",
        "            \"max_current_debt\": round(np.random.uniform(10000, 50000), 2),\n",
        "            \"region\": fake.state(),\n",
        "            \"loan_purpose\": random.choice([\"Home\", \"Car\", \"Education\", \"Medical\"]),\n",
        "            \"term_months_allowed\": random.choice([12, 24, 36, 60]),\n",
        "            \"flag\": random.choice([\"High Risk\", \"Medium Risk\", \"Low Risk\"]),\n",
        "            \"rule_active\": random.choice([\"Yes\", \"No\"]),\n",
        "            \"created_by\": fake.name(),\n",
        "            \"created_date\": fake.date_between(start_date='-2y', end_date='today'),\n",
        "            \"review_frequency_days\": random.choice([30, 60, 90])\n",
        "        }\n",
        "        data.append(entry)\n",
        "\n",
        "    df = pd.DataFrame(data)\n",
        "\n",
        "    # Add nulls\n",
        "    for col in df.columns:\n",
        "        df.loc[df.sample(frac=NULL_PERCENT).index, col] = None\n",
        "\n",
        "    # Add duplicates\n",
        "    duplicates = df.sample(frac=DUPLICATE_PERCENT)\n",
        "    df = pd.concat([df, duplicates], ignore_index=True)\n",
        "\n",
        "    df.to_json(\"dataset/risk_flag_rules.json\", orient=\"records\", lines=True)\n",
        "\n",
        "\n",
        "# Generate all datasets\n",
        "generate_loan_applications()\n",
        "generate_customer_credit_history()\n",
        "generate_monthly_payment_logs()\n",
        "generate_risk_flag_rules()\n",
        "\n",
        "print(\"✅ All datasets created in the 'dataset' directory.\")\n"
      ],
      "metadata": {
        "colab": {
          "base_uri": "https://localhost:8080/"
        },
        "id": "JoBf-_0nDzfl",
        "outputId": "ed8c8051-f484-48cc-c652-9e73d6c317e2"
      },
      "execution_count": null,
      "outputs": [
        {
          "output_type": "stream",
          "name": "stderr",
          "text": [
            "/tmp/ipython-input-4-4230135131.py:112: FutureWarning: Setting an item of incompatible dtype is deprecated and will raise an error in a future version of pandas. Value 'nan' has dtype incompatible with bool, please explicitly cast to a compatible dtype first.\n",
            "  df.loc[df.sample(frac=NULL_PERCENT).index, col] = None\n"
          ]
        },
        {
          "output_type": "stream",
          "name": "stdout",
          "text": [
            "✅ All datasets created in the 'dataset' directory.\n"
          ]
        }
      ]
    },
    {
      "cell_type": "code",
      "source": [
        "pip install pyspark==3.5.2"
      ],
      "metadata": {
        "colab": {
          "base_uri": "https://localhost:8080/"
        },
        "id": "uYRSePrgcsxK",
        "outputId": "3260dc00-8863-4679-c646-c46e52f80f90"
      },
      "execution_count": null,
      "outputs": [
        {
          "output_type": "stream",
          "name": "stdout",
          "text": [
            "Collecting pyspark==3.5.2\n",
            "  Downloading pyspark-3.5.2.tar.gz (317.3 MB)\n",
            "\u001b[2K     \u001b[90m━━━━━━━━━━━━━━━━━━━━━━━━━━━━━━━━━━━━━━━\u001b[0m \u001b[32m317.3/317.3 MB\u001b[0m \u001b[31m3.6 MB/s\u001b[0m eta \u001b[36m0:00:00\u001b[0m\n",
            "\u001b[?25h  Preparing metadata (setup.py) ... \u001b[?25l\u001b[?25hdone\n",
            "Requirement already satisfied: py4j==0.10.9.7 in /usr/local/lib/python3.11/dist-packages (from pyspark==3.5.2) (0.10.9.7)\n",
            "Building wheels for collected packages: pyspark\n",
            "  Building wheel for pyspark (setup.py) ... \u001b[?25l\u001b[?25hdone\n",
            "  Created wheel for pyspark: filename=pyspark-3.5.2-py2.py3-none-any.whl size=317812369 sha256=03a59bf497aa1a122c8cbf683bae46da88071b6c793ee060d8b2c1f5e3f232f5\n",
            "  Stored in directory: /root/.cache/pip/wheels/9d/29/ee/3a756632ca3f0a6870933bac1c9db6e4af2c068f019aba0ee1\n",
            "Successfully built pyspark\n",
            "Installing collected packages: pyspark\n",
            "  Attempting uninstall: pyspark\n",
            "    Found existing installation: pyspark 3.5.1\n",
            "    Uninstalling pyspark-3.5.1:\n",
            "      Successfully uninstalled pyspark-3.5.1\n",
            "Successfully installed pyspark-3.5.2\n"
          ]
        }
      ]
    },
    {
      "cell_type": "markdown",
      "source": [
        "## **Loading Data into DataFrame**\n"
      ],
      "metadata": {
        "id": "5WW0aeZBcWLT"
      }
    },
    {
      "cell_type": "code",
      "source": [
        "from pyspark.sql import SparkSession, DataFrame\n",
        "from pyspark.sql.functions import *"
      ],
      "metadata": {
        "id": "-T8EwWgicHLS"
      },
      "execution_count": null,
      "outputs": []
    },
    {
      "cell_type": "code",
      "source": [
        "spark=SparkSession.builder.appName(\"Credit_Risk_Analysis\").getOrCreate()"
      ],
      "metadata": {
        "id": "GJtiSqFQdIyj"
      },
      "execution_count": null,
      "outputs": []
    },
    {
      "cell_type": "code",
      "source": [
        "mp_df=spark.read.csv(\"/content/dataset/loan_applications.csv\",header=True,inferSchema=True)"
      ],
      "metadata": {
        "id": "M7aLO49FeogH"
      },
      "execution_count": null,
      "outputs": []
    },
    {
      "cell_type": "code",
      "source": [
        "loan_app_df=spark.read.csv(\"/content/dataset/loan_applications.csv\",header=True,inferSchema=True)\n",
        "cust_df=spark.read.option(\"lines\",True).json(\"/content/dataset/customer_credit_history.json\")\n",
        "risk_df=spark.read.option(\"lines\",True).json(\"/content/dataset/risk_flag_rules.json\")"
      ],
      "metadata": {
        "id": "N_0SO_rOfS_Z"
      },
      "execution_count": null,
      "outputs": []
    },
    {
      "cell_type": "markdown",
      "source": [
        "# **Displaying DataFrames**"
      ],
      "metadata": {
        "id": "UINjl9bkg62D"
      }
    },
    {
      "cell_type": "code",
      "source": [
        "mp_df.show()"
      ],
      "metadata": {
        "id": "W6Z_9c46gkbn",
        "colab": {
          "base_uri": "https://localhost:8080/"
        },
        "outputId": "6513acb7-0694-4791-a903-a198f15b82df"
      },
      "execution_count": null,
      "outputs": [
        {
          "output_type": "stream",
          "name": "stdout",
          "text": [
            "+--------------------+-----------+-----------+---------+----------------+-------------------+--------------+-------------------+-------+--------------------+--------------+\n",
            "|         customer_id|loan_amount|term_months|  purpose|application_date|               city|         state|            country|channel|            agent_id|      campaign|\n",
            "+--------------------+-----------+-----------+---------+----------------+-------------------+--------------+-------------------+-------+--------------------+--------------+\n",
            "|27510f5f-581c-4b4...|   19352.47|       12.0|     Home|      2025-01-01|        Burgessland|         Idaho|               NULL|  Agent|b7fadb8c-febc-4bb...|FestiveBonanza|\n",
            "|ee82a608-8485-475...|    47585.0|       24.0|      Car|            NULL|        North Larry|      Oklahoma|              Samoa| Online|2db6bbbe-ca93-4d8...|          None|\n",
            "|558348fe-5e28-4b9...|    36867.7|       12.0|  Wedding|      2022-11-18|               NULL|    New Mexico|Trinidad and Tobago|  Agent|6c8a6667-bb2f-442...|          None|\n",
            "|aaa58395-7abb-4d1...|   30334.27|       12.0| Vacation|      2025-05-29|           Danaside|      Maryland|              Benin| Branch|cc70994f-8d5e-4d7...|    Summer2023|\n",
            "|684628c5-208d-427...|    8644.91|       12.0|     Home|      2024-11-22|      New Frankfort|South Carolina|   French Polynesia| Online|90a24920-a7a9-424...|          NULL|\n",
            "|4beba74f-f370-408...|    8643.73|       60.0| Vacation|      2023-04-21|           Dawntown| West Virginia|           Thailand| Online|1b6efc52-d389-4c2...|          None|\n",
            "|9343a5b0-7ffa-48a...|     3846.1|       24.0|  Wedding|      2023-03-26|Lake Vanessaborough|  North Dakota|       Cook Islands|   NULL|f269f7ca-5db7-4ea...|          None|\n",
            "|41f0472c-eadb-46b...|   43442.63|       60.0|  Medical|      2025-02-03|          East John|        Kansas|             Sweden| Online|5f2f9e6d-8113-43b...|FestiveBonanza|\n",
            "|4c4dae89-0c72-498...|   30454.64|       60.0|Education|      2023-03-12|        Bentonmouth|      Delaware|             Belize| Online|db5d6f22-cfd5-493...|    Summer2023|\n",
            "|6b95e8d7-d0a0-46b...|   35695.56|       48.0|Education|      2024-09-18|         East James|      New York|          Mauritius| Branch|69bc06e3-d6a1-49b...|    Summer2023|\n",
            "|                NULL|    2008.64|       24.0|Education|      2022-11-09|         Bookerside|       Arizona|           Cameroon| Online|f93b231c-19a5-4ae...|    Summer2023|\n",
            "|8b1b3041-e970-427...|   48525.58|       48.0|     Home|      2023-06-03|         Reyesburgh|          Utah|             Rwanda| Branch|2089752c-0b1b-44b...|FestiveBonanza|\n",
            "|966ab593-79ac-469...|   41789.69|       NULL|Education|      2022-11-20|         Romeroview|     Tennessee|          Australia| Online|556512e5-355c-4d6...|          None|\n",
            "|c8ada1a8-cd57-430...|   11404.62|       48.0| Vacation|      2024-07-30|         Lake Renee|          NULL|              Benin| Online|1d4f1cb4-3716-480...|FestiveBonanza|\n",
            "|bafca96c-c4a8-4c9...|    9909.42|       12.0| Vacation|      2024-12-26|        Raymondberg|   Mississippi|         San Marino| Branch|4b1932f6-ebf7-43d...|          None|\n",
            "|82272a49-2596-404...|    9986.82|       60.0|Education|      2022-11-23|        Ronaldmouth|        Oregon|            Estonia|  Agent|c88886c5-cba6-4b5...|    Summer2023|\n",
            "|ebbe38ed-44a3-4b9...|   15907.87|       NULL|     Home|      2024-06-18|       Russellshire|     Minnesota|               NULL|  Agent|8b2aeb71-651e-4d5...|    Summer2023|\n",
            "|ded1d174-d13d-4ff...|   26713.07|       36.0|     Home|            NULL|        South Kevin|        Kansas| Russian Federation|   NULL|9839fe62-9670-407...|    Summer2023|\n",
            "|e23522a3-47b5-456...|   22165.31|       NULL|Education|      2024-06-15|          Morahaven|         Texas|            Bolivia| Branch|69b5dded-16bc-4ed...|          None|\n",
            "|493eb7a3-3293-48f...|   15270.23|       36.0|      Car|      2024-05-07|               NULL|      Colorado|             Uganda| Branch|281b7820-8fba-476...|FestiveBonanza|\n",
            "+--------------------+-----------+-----------+---------+----------------+-------------------+--------------+-------------------+-------+--------------------+--------------+\n",
            "only showing top 20 rows\n",
            "\n"
          ]
        }
      ]
    },
    {
      "cell_type": "code",
      "source": [
        "mp_df.describe()\n"
      ],
      "metadata": {
        "id": "QSkqn4cug33r",
        "colab": {
          "base_uri": "https://localhost:8080/"
        },
        "outputId": "a250618e-c4fb-4e34-f114-d9e569d7ab05"
      },
      "execution_count": null,
      "outputs": [
        {
          "output_type": "execute_result",
          "data": {
            "text/plain": [
              "DataFrame[summary: string, customer_id: string, loan_amount: string, term_months: string, purpose: string, city: string, state: string, country: string, channel: string, agent_id: string, campaign: string]"
            ]
          },
          "metadata": {},
          "execution_count": 11
        }
      ]
    },
    {
      "cell_type": "code",
      "source": [
        "cust_df.show()"
      ],
      "metadata": {
        "id": "WwdA60J_hU5G",
        "colab": {
          "base_uri": "https://localhost:8080/"
        },
        "outputId": "fc3f8eda-810b-4c9c-dc4b-a09da753a517"
      },
      "execution_count": null,
      "outputs": [
        {
          "output_type": "stream",
          "name": "stdout",
          "text": [
            "+-----------------+--------------------+------------+------------+--------------------+--------+-------+----------------+-------------+---------+-------------+\n",
            "|account_age_years|           bank_name|credit_score|current_debt|         customer_id|defaults|flagged|last_loan_status| last_updated|loan_type|       region|\n",
            "+-----------------+--------------------+------------+------------+--------------------+--------+-------+----------------+-------------+---------+-------------+\n",
            "|              4.0|    Salazar and Sons|       627.0|    40969.55|                NULL|     0.0|     No|       Defaulted|1752710400000|     Auto|New Hampshire|\n",
            "|             19.0|Singh, Vasquez an...|       697.0|    54437.07|bfdb1866-447a-486...|     0.0|     No|         Ongoing|         NULL|     Auto|      Arizona|\n",
            "|             18.0|Jones, Conley and...|       696.0|     8107.37|faf21cde-4ee5-4f2...|     2.0|    Yes|       Defaulted|1740009600000| Personal|      Florida|\n",
            "|             12.0|         Barnett Ltd|       999.0|       180.7|c72e12a7-488f-41c...|     1.0|    Yes|            Paid|1737331200000| Mortgage|     Nebraska|\n",
            "|              5.0|Obrien, Walters a...|       999.0|    61623.41|25f6ebe8-201a-4ac...|     2.0|     No|         Ongoing|1752451200000| Mortgage|         NULL|\n",
            "|              9.0|Mcdaniel, Gutierr...|       756.0|    53078.41|83733293-7168-495...|     0.0|     No|         Ongoing|1748736000000| Personal|   California|\n",
            "|              3.0|     Schneider-Kelly|       546.0|    30646.51|d7cf94fc-fc7e-47e...|     1.0|     No|       Defaulted|1745452800000|     NULL|       Kansas|\n",
            "|             16.0|      Woods and Sons|       495.0|    95010.69|5c1a58b9-ade8-462...|     0.0|    Yes|         Ongoing|1749427200000|     NULL| Pennsylvania|\n",
            "|              5.0|         Yang-Miller|       844.0|    47818.54|248586fc-7559-4b6...|     2.0|    Yes|            Paid|1752969600000| Mortgage|     Michigan|\n",
            "|             18.0|Cervantes, Turner...|       666.0|     14295.0|cc8f065d-d51b-44d...|     0.0|    Yes|            NULL|1744156800000|     NULL|     Michigan|\n",
            "|              7.0|   Hernandez-Roberts|       602.0|    49263.33|95e851a3-f9e1-473...|     0.0|   NULL|       Defaulted|1736294400000|Education|         Ohio|\n",
            "|             11.0|     Blankenship LLC|        NULL|    14461.08|ff2fb3af-97d1-415...|     3.0|     No|       Defaulted|1751328000000|Education|   New Jersey|\n",
            "|             12.0|Torres, Barry and...|       309.0|    67944.49|000ea42c-6d95-413...|     0.0|     No|            Paid|1741305600000| Personal|     Virginia|\n",
            "|             12.0|Riley, Cole and V...|       844.0|    23743.32|                NULL|     3.0|     No|       Defaulted|1744588800000|     Auto|  Connecticut|\n",
            "|             11.0|      Phillips-Myers|       999.0|    91616.42|24edb812-7d66-403...|     3.0|    Yes|       Defaulted|1744502400000|     Auto|      Montana|\n",
            "|             18.0|Gentry, Stevenson...|       742.0|    57056.39|                NULL|     2.0|    Yes|            Paid|1752537600000|Education|       Kansas|\n",
            "|             18.0|        Parker-Lewis|       501.0|    18513.11|184a655f-2833-4d4...|     3.0|     No|            NULL|1752624000000|     NULL|     Maryland|\n",
            "|             13.0|         Harding PLC|       634.0|    54894.12|9d625938-e18b-430...|     4.0|     No|            Paid|1743897600000|Education|    Wisconsin|\n",
            "|              1.0|Russo, Baker and ...|       344.0|    83732.71|8c3e4f3a-68ab-4d2...|     0.0|    Yes|       Defaulted|1745020800000|     NULL|  Mississippi|\n",
            "|              4.0|Melendez, Johnson...|       806.0|    25527.78|345ee8b4-46cd-4aa...|     3.0|   NULL|            NULL|1748304000000| Mortgage| Pennsylvania|\n",
            "+-----------------+--------------------+------------+------------+--------------------+--------+-------+----------------+-------------+---------+-------------+\n",
            "only showing top 20 rows\n",
            "\n"
          ]
        }
      ]
    },
    {
      "cell_type": "code",
      "source": [
        "risk_df.describe()"
      ],
      "metadata": {
        "id": "5bQEG2uxhZUL",
        "colab": {
          "base_uri": "https://localhost:8080/"
        },
        "outputId": "8f846918-8443-49db-b0fc-8c4eb982a8f5"
      },
      "execution_count": null,
      "outputs": [
        {
          "output_type": "execute_result",
          "data": {
            "text/plain": [
              "DataFrame[summary: string, created_by: string, created_date: string, flag: string, loan_purpose: string, max_current_debt: string, max_defaults_allowed: string, min_credit_score: string, region: string, review_frequency_days: string, rule_active: string, rule_id: string, term_months_allowed: string]"
            ]
          },
          "metadata": {},
          "execution_count": 13
        }
      ]
    },
    {
      "cell_type": "code",
      "source": [
        "loan_app_df.describe()"
      ],
      "metadata": {
        "id": "qrzIlQsBhbxX",
        "colab": {
          "base_uri": "https://localhost:8080/"
        },
        "outputId": "c469a619-0182-4938-b368-871722b0f8df"
      },
      "execution_count": null,
      "outputs": [
        {
          "output_type": "execute_result",
          "data": {
            "text/plain": [
              "DataFrame[summary: string, customer_id: string, loan_amount: string, term_months: string, purpose: string, city: string, state: string, country: string, channel: string, agent_id: string, campaign: string]"
            ]
          },
          "metadata": {},
          "execution_count": 14
        }
      ]
    },
    {
      "cell_type": "code",
      "source": [
        "risk_df.show(truncate=False)"
      ],
      "metadata": {
        "id": "K_OBngP5hjhW",
        "colab": {
          "base_uri": "https://localhost:8080/"
        },
        "outputId": "f1dcf740-a1fb-4e4a-dd90-09fe2593184d"
      },
      "execution_count": null,
      "outputs": [
        {
          "output_type": "stream",
          "name": "stdout",
          "text": [
            "+-----------------+-------------+-----------+------------+----------------+--------------------+----------------+-------------+---------------------+-----------+---------+-------------------+\n",
            "|created_by       |created_date |flag       |loan_purpose|max_current_debt|max_defaults_allowed|min_credit_score|region       |review_frequency_days|rule_active|rule_id  |term_months_allowed|\n",
            "+-----------------+-------------+-----------+------------+----------------+--------------------+----------------+-------------+---------------------+-----------+---------+-------------------+\n",
            "|Tammy Turner     |1709683200000|Medium Risk|Car         |16378.51        |NULL                |795.0           |Minnesota    |90.0                 |Yes        |RULE00000|12.0               |\n",
            "|Kenneth Hill     |1718755200000|High Risk  |Home        |34810.64        |0.0                 |361.0           |California   |30.0                 |No         |RULE00001|12.0               |\n",
            "|NULL             |1696464000000|High Risk  |Car         |25589.92        |4.0                 |823.0           |Alabama      |90.0                 |Yes        |RULE00002|24.0               |\n",
            "|Christina Avila  |1705968000000|Low Risk   |Medical     |NULL            |2.0                 |467.0           |Oregon       |30.0                 |Yes        |RULE00003|12.0               |\n",
            "|Angela Bailey    |1732579200000|High Risk  |NULL        |46769.59        |1.0                 |803.0           |Colorado     |90.0                 |No         |RULE00004|24.0               |\n",
            "|Rebekah Mcdaniel |1721001600000|Medium Risk|Home        |13854.36        |1.0                 |706.0           |South Dakota |30.0                 |No         |RULE00005|60.0               |\n",
            "|Nathan Pham      |1749772800000|High Risk  |Education   |31162.08        |3.0                 |420.0           |Louisiana    |NULL                 |Yes        |RULE00006|12.0               |\n",
            "|Kimberly Santiago|1695340800000|Medium Risk|Medical     |35961.13        |4.0                 |708.0           |Idaho        |90.0                 |Yes        |RULE00007|36.0               |\n",
            "|Franklin Moore   |1745020800000|High Risk  |Home        |47901.01        |2.0                 |549.0           |Michigan     |30.0                 |No         |RULE00008|60.0               |\n",
            "|Cassandra Young  |1703894400000|Low Risk   |Car         |22007.62        |3.0                 |NULL            |Arizona      |60.0                 |No         |RULE00009|12.0               |\n",
            "|Vanessa Munoz    |1721260800000|High Risk  |Medical     |40368.15        |1.0                 |651.0           |Connecticut  |NULL                 |Yes        |RULE00010|60.0               |\n",
            "|Kim Wilson       |1690502400000|Medium Risk|NULL        |NULL            |2.0                 |745.0           |New Hampshire|30.0                 |No         |RULE00011|24.0               |\n",
            "|John Brown       |1719273600000|Medium Risk|Education   |12527.48        |4.0                 |737.0           |Arizona      |NULL                 |No         |RULE00012|12.0               |\n",
            "|Jerry Ruiz       |1728691200000|Medium Risk|Home        |21503.06        |4.0                 |788.0           |Tennessee    |30.0                 |Yes        |RULE00013|24.0               |\n",
            "|Mallory Bush     |1705795200000|High Risk  |NULL        |48356.16        |3.0                 |671.0           |Connecticut  |90.0                 |No         |RULE00014|24.0               |\n",
            "|Tyler Jones      |1709251200000|NULL       |Home        |14396.06        |3.0                 |729.0           |Iowa         |90.0                 |Yes        |RULE00015|24.0               |\n",
            "|Jeffrey Leonard  |1747008000000|Low Risk   |Home        |23435.35        |4.0                 |732.0           |NULL         |60.0                 |No         |RULE00016|12.0               |\n",
            "|Pamela Moore     |1724716800000|High Risk  |Medical     |47379.97        |NULL                |588.0           |California   |90.0                 |No         |RULE00017|36.0               |\n",
            "|Traci Walsh      |1703030400000|Medium Risk|Car         |22174.86        |0.0                 |314.0           |NULL         |NULL                 |Yes        |RULE00018|60.0               |\n",
            "|NULL             |1723766400000|High Risk  |NULL        |45141.46        |4.0                 |395.0           |Ohio         |30.0                 |No         |RULE00019|24.0               |\n",
            "+-----------------+-------------+-----------+------------+----------------+--------------------+----------------+-------------+---------------------+-----------+---------+-------------------+\n",
            "only showing top 20 rows\n",
            "\n"
          ]
        }
      ]
    },
    {
      "cell_type": "code",
      "source": [
        "cl=risk_df.count()\n",
        "print(cl)\n",
        "print(loan_app_df.count())\n",
        "cust_df.count()"
      ],
      "metadata": {
        "id": "6YYrCJNxks0v",
        "colab": {
          "base_uri": "https://localhost:8080/"
        },
        "outputId": "1fa34a89-417a-438f-b36f-09ebe3688c5e"
      },
      "execution_count": null,
      "outputs": [
        {
          "output_type": "stream",
          "name": "stdout",
          "text": [
            "10700\n",
            "10700\n"
          ]
        },
        {
          "output_type": "execute_result",
          "data": {
            "text/plain": [
              "10700"
            ]
          },
          "metadata": {},
          "execution_count": 16
        }
      ]
    },
    {
      "cell_type": "markdown",
      "source": [
        "## **Cleaning Data**"
      ],
      "metadata": {
        "id": "3luS3MjF_zMI"
      }
    },
    {
      "cell_type": "code",
      "source": [
        "mp_df=mp_df.dropDuplicates()"
      ],
      "metadata": {
        "id": "3xhQxDYU_6ue"
      },
      "execution_count": null,
      "outputs": []
    },
    {
      "cell_type": "code",
      "source": [
        "cust_df=cust_df.dropDuplicates()\n",
        "cust_df.count()"
      ],
      "metadata": {
        "colab": {
          "base_uri": "https://localhost:8080/"
        },
        "id": "z44_yTE9Czs8",
        "outputId": "d02b2c41-08b8-44b0-8f84-14ba1a0e117e"
      },
      "execution_count": null,
      "outputs": [
        {
          "output_type": "execute_result",
          "data": {
            "text/plain": [
              "10000"
            ]
          },
          "metadata": {},
          "execution_count": 18
        }
      ]
    },
    {
      "cell_type": "code",
      "source": [
        "loan_app_df=loan_app_df.dropDuplicates()\n",
        "print(loan_app_df.count())"
      ],
      "metadata": {
        "colab": {
          "base_uri": "https://localhost:8080/"
        },
        "id": "7pGdYYgAC9Xs",
        "outputId": "90f32fbe-1d96-4b11-e673-28c7836b62d5"
      },
      "execution_count": null,
      "outputs": [
        {
          "output_type": "stream",
          "name": "stdout",
          "text": [
            "10000\n"
          ]
        }
      ]
    },
    {
      "cell_type": "code",
      "source": [
        "risk_df=risk_df.dropDuplicates()"
      ],
      "metadata": {
        "id": "iPTWZNyLDAEp"
      },
      "execution_count": null,
      "outputs": []
    },
    {
      "cell_type": "code",
      "source": [],
      "metadata": {
        "id": "n1sMeK5LDFDF"
      },
      "execution_count": null,
      "outputs": []
    },
    {
      "cell_type": "markdown",
      "source": [
        "**Remove NULL values**"
      ],
      "metadata": {
        "id": "DFkpuhyFFpaI"
      }
    },
    {
      "cell_type": "code",
      "source": [
        "cust_df=cust_df.dropna()"
      ],
      "metadata": {
        "id": "4iurCLLIFvQk"
      },
      "execution_count": null,
      "outputs": []
    },
    {
      "cell_type": "code",
      "source": [
        "cust_df.count()"
      ],
      "metadata": {
        "colab": {
          "base_uri": "https://localhost:8080/"
        },
        "id": "c3PO6K7dKMWM",
        "outputId": "a516dada-70a7-4733-e14f-5734f74b8d13"
      },
      "execution_count": null,
      "outputs": [
        {
          "output_type": "execute_result",
          "data": {
            "text/plain": [
              "5639"
            ]
          },
          "metadata": {},
          "execution_count": 22
        }
      ]
    },
    {
      "cell_type": "code",
      "source": [
        "risk_df=risk_df.dropna()"
      ],
      "metadata": {
        "id": "IzeodYd-KOAc"
      },
      "execution_count": null,
      "outputs": []
    },
    {
      "cell_type": "markdown",
      "source": [
        "# New section"
      ],
      "metadata": {
        "id": "wirR-2R3OxAL"
      }
    },
    {
      "cell_type": "markdown",
      "source": [
        "# New section"
      ],
      "metadata": {
        "id": "ikSlTZesOylT"
      }
    },
    {
      "cell_type": "code",
      "source": [
        "risk_df.count()"
      ],
      "metadata": {
        "colab": {
          "base_uri": "https://localhost:8080/"
        },
        "id": "7hNhR1nLL_WX",
        "outputId": "076543c8-5a1c-4e4a-b182-cfc60d9f71da"
      },
      "execution_count": null,
      "outputs": [
        {
          "output_type": "execute_result",
          "data": {
            "text/plain": [
              "5406"
            ]
          },
          "metadata": {},
          "execution_count": 24
        }
      ]
    },
    {
      "cell_type": "code",
      "source": [
        "mp_df=mp_df.dropna()\n",
        "mp_df.count()"
      ],
      "metadata": {
        "colab": {
          "base_uri": "https://localhost:8080/"
        },
        "id": "YUK_CTr-NYKr",
        "outputId": "45c83f55-211c-45c7-d0a6-96586a0dfe82"
      },
      "execution_count": null,
      "outputs": [
        {
          "output_type": "execute_result",
          "data": {
            "text/plain": [
              "5699"
            ]
          },
          "metadata": {},
          "execution_count": 25
        }
      ]
    },
    {
      "cell_type": "code",
      "source": [
        "loan_app_df=loan_app_df.dropna()\n",
        "loan_app_df.count()"
      ],
      "metadata": {
        "colab": {
          "base_uri": "https://localhost:8080/"
        },
        "id": "Ve5tJZo2NjUv",
        "outputId": "5505e7ca-6009-47ea-8a0c-13dd3126b956"
      },
      "execution_count": null,
      "outputs": [
        {
          "output_type": "execute_result",
          "data": {
            "text/plain": [
              "5699"
            ]
          },
          "metadata": {},
          "execution_count": 26
        }
      ]
    },
    {
      "cell_type": "code",
      "source": [],
      "metadata": {
        "id": "qT3qV3fgNrOd"
      },
      "execution_count": null,
      "outputs": []
    }
  ]
}